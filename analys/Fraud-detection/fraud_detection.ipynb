{
 "cells": [
  {
   "cell_type": "code",
   "execution_count": null,
   "id": "b13c0f79",
   "metadata": {},
   "outputs": [],
   "source": [
    "import kagglehub\n",
    "import pandas as pd\n",
    "import matplotlib.pyplot as plt\n",
    "import seaborn as sns\n",
    "from sklearn.model_selection import train_test_split\n",
    "from sklearn.preprocessing import StandardScaler\n",
    "from sklearn.ensemble import RandomForestClassifier\n",
    "from sklearn.linear_model import LogisticRegression\n",
    "from sklearn.metrics import classification_report, roc_auc_score, roc_curve"
   ]
  },
  {
   "cell_type": "code",
   "execution_count": null,
   "id": "762fded0",
   "metadata": {},
   "outputs": [],
   "source": [
    "# Download dataset using kagglehub API\n",
    "print(\"Downloading dataset from KaggleHub...\")\n",
    "path = kagglehub.dataset_download(\"mlg-ulb/creditcardfraud\")\n",
    "dataset_path = f\"{path}/creditcard.csv\"\n",
    "print(f\"Path to dataset: {dataset_path}\")"
   ]
  },
  {
   "cell_type": "code",
   "execution_count": null,
   "id": "53002804",
   "metadata": {},
   "outputs": [],
   "source": [
    "# Load dataset\n",
    "print(\"Loading dataset...\")\n",
    "data = pd.read_csv(dataset_path)\n",
    "print(\"Dataset loaded successfully.\")"
   ]
  },
  {
   "cell_type": "code",
   "execution_count": null,
   "id": "9238e32f",
   "metadata": {},
   "outputs": [],
   "source": [
    "# EDA: Class distribution\n",
    "plt.figure(figsize=(7, 5))\n",
    "sns.countplot(x='Class', data=data, color='steelblue')\n",
    "plt.title(\"Class Distribution (0: Normal Transactions, 1: Fraudulent Transactions)\", fontsize=16)\n",
    "plt.xlabel(\"Class (0: Normal, 1: Fraud)\", fontsize=14)\n",
    "plt.ylabel(\"Count\", fontsize=14)\n",
    "plt.xticks(ticks=[0, 1], labels=[\"Normal\", \"Fraud\"], fontsize=12)\n",
    "plt.grid(True)\n",
    "plt.show()"
   ]
  },
  {
   "cell_type": "code",
   "execution_count": null,
   "id": "a25248ae",
   "metadata": {},
   "outputs": [],
   "source": [
    "# EDA: Transaction amount distribution\n",
    "plt.figure(figsize=(10, 6))\n",
    "sns.histplot(data['Amount'], bins=50, kde=True, color='blue')\n",
    "plt.title(\"Distribution of Transaction Amounts\", fontsize=16)\n",
    "plt.xlabel(\"Transaction Amount (USD)\", fontsize=14)\n",
    "plt.ylabel(\"Count\", fontsize=14)\n",
    "plt.xlim([0, 3000])\n",
    "plt.grid(True)\n",
    "plt.show()"
   ]
  },
  {
   "cell_type": "code",
   "execution_count": null,
   "id": "18883012",
   "metadata": {},
   "outputs": [],
   "source": [
    "# Data Preprocessing\n",
    "scaler = StandardScaler()\n",
    "data['Amount_scaled'] = scaler.fit_transform(data['Amount'].values.reshape(-1, 1))\n",
    "data['Time_scaled'] = scaler.fit_transform(data['Time'].values.reshape(-1, 1))\n",
    "data = data.drop(['Amount', 'Time'], axis=1)"
   ]
  },
  {
   "cell_type": "code",
   "execution_count": null,
   "id": "f8958ffa",
   "metadata": {},
   "outputs": [],
   "source": [
    "# Split data into features and target\n",
    "X = data.drop('Class', axis=1)\n",
    "y = data['Class']"
   ]
  },
  {
   "cell_type": "code",
   "execution_count": null,
   "id": "6829b735",
   "metadata": {},
   "outputs": [],
   "source": [
    "# Train-test split\n",
    "X_train, X_test, y_train, y_test = train_test_split(X, y, test_size=0.3, random_state=42, stratify=y)"
   ]
  },
  {
   "cell_type": "code",
   "execution_count": null,
   "id": "9d6b654a",
   "metadata": {},
   "outputs": [],
   "source": [
    "# Logistic Regression\n",
    "print(\"Training Logistic Regression...\")\n",
    "lr = LogisticRegression(max_iter=1000)\n",
    "lr.fit(X_train, y_train)\n",
    "print(\"Logistic Regression trained.\")"
   ]
  },
  {
   "cell_type": "code",
   "execution_count": null,
   "id": "ea7782a6",
   "metadata": {},
   "outputs": [],
   "source": [
    "y_pred_lr = lr.predict(X_test)\n",
    "print(\"Logistic Regression:\")\n",
    "print(classification_report(y_test, y_pred_lr))\n",
    "roc_auc_lr = roc_auc_score(y_test, lr.predict_proba(X_test)[:, 1])\n",
    "fpr_lr, tpr_lr, _ = roc_curve(y_test, lr.predict_proba(X_test)[:, 1])"
   ]
  },
  {
   "cell_type": "code",
   "execution_count": null,
   "id": "0a4facf1",
   "metadata": {},
   "outputs": [],
   "source": [
    "# Random Forest (with class_weight='balanced')\n",
    "print(\"Training Random Forest...\")\n",
    "rf = RandomForestClassifier(n_estimators=100, random_state=42, class_weight='balanced')\n",
    "rf.fit(X_train, y_train)\n",
    "print(\"Random Forest trained.\")"
   ]
  },
  {
   "cell_type": "code",
   "execution_count": null,
   "id": "34a903a7",
   "metadata": {},
   "outputs": [],
   "source": [
    "y_pred_rf = rf.predict(X_test)\n",
    "print(\"Random Forest:\")\n",
    "print(classification_report(y_test, y_pred_rf))\n",
    "roc_auc_rf = roc_auc_score(y_test, rf.predict_proba(X_test)[:, 1])\n",
    "fpr_rf, tpr_rf, _ = roc_curve(y_test, rf.predict_proba(X_test)[:, 1])"
   ]
  },
  {
   "cell_type": "code",
   "execution_count": null,
   "id": "86c673a5",
   "metadata": {
    "lines_to_next_cell": 1
   },
   "outputs": [],
   "source": [
    "# ROC Curves\n",
    "plt.figure(figsize=(10, 6))\n",
    "plt.plot(fpr_lr, tpr_lr, label=f'Logistic Regression (AUC = {roc_auc_lr:.2f})', color='blue', linewidth=2)\n",
    "plt.plot(fpr_rf, tpr_rf, label=f'Random Forest (AUC = {roc_auc_rf:.2f})', color='green', linewidth=2)\n",
    "plt.plot([0, 1], [0, 1], 'k--', label='Random Guessing', color='gray', linewidth=2)\n",
    "plt.xlim([0.0, 1.0])\n",
    "plt.ylim([0.0, 1.05])\n",
    "plt.xlabel('False Positive Rate (FPR)', fontsize=14)\n",
    "plt.ylabel('True Positive Rate (TPR)', fontsize=14)\n",
    "plt.title('ROC Curve Comparison: Logistic Regression, Random Forest', fontsize=16)\n",
    "plt.legend(loc=\"lower right\", fontsize=12)\n",
    "plt.grid(True)\n",
    "plt.show()"
   ]
  },
  {
   "cell_type": "code",
   "execution_count": null,
   "id": "1df81c74",
   "metadata": {
    "lines_to_next_cell": 1
   },
   "outputs": [],
   "source": [
    "# --- Function for predicting new transaction ---\n",
    "def predict_new_transaction(input_dict):\n",
    "    \"\"\"\n",
    "    input_dict — a dictionary like: {'V1': value, ..., 'V28': value, 'Amount': value, 'Time': value}\n",
    "    \"\"\"\n",
    "\n",
    "    amount_scaled = scaler.transform([[input_dict['Amount']]])[0][0]\n",
    "    time_scaled = scaler.transform([[input_dict['Time']]])[0][0]\n",
    "    # Build features in the same order as in X_train\n",
    "    features = []\n",
    "    for col in X.columns:\n",
    "        if col == 'Amount_scaled':\n",
    "            features.append(amount_scaled)\n",
    "        elif col == 'Time_scaled':\n",
    "            features.append(time_scaled)\n",
    "        else:\n",
    "            features.append(input_dict[col])\n",
    "    features_df = pd.DataFrame([features], columns=X.columns)\n",
    "\n",
    "    prob_lr = lr.predict_proba(features_df)[:, 1][0]\n",
    "    prob_rf = rf.predict_proba(features_df)[:, 1][0]\n",
    "    print(f\"Logistic Regression: fraud probability = {prob_lr*100:.2f}%\")\n",
    "    print(f\"Random Forest:      fraud probability = {prob_rf*100:.2f}%\")\n",
    "    return prob_lr, prob_rf"
   ]
  },
  {
   "cell_type": "code",
   "execution_count": null,
   "id": "4a791b78",
   "metadata": {},
   "outputs": [],
   "source": [
    "# --- Example of usage ---\n",
    "example_transaction = {\n",
    "    'V1': 0.1, 'V2': -0.3, 'V3': 1.2, 'V4': 0.5, 'V5': -0.7, 'V6': 0.3, 'V7': -0.1,\n",
    "    'V8': 0.2, 'V9': -0.5, 'V10': 1.1, 'V11': 0.4, 'V12': -0.8, 'V13': 0.7, 'V14': -0.2,\n",
    "    'V15': 0.0, 'V16': 0.6, 'V17': -0.4, 'V18': 1.5, 'V19': -0.3, 'V20': 0.1, 'V21': 0.2,\n",
    "    'V22': -0.6, 'V23': 0.3, 'V24': -0.7, 'V25': 0.8, 'V26': 0.1, 'V27': -0.2, 'V28': 0.4,\n",
    "    'Amount': 100.0,    # transaction amount in $\n",
    "    'Time': 80000       # time\n",
    "}"
   ]
  },
  {
   "cell_type": "code",
   "execution_count": null,
   "id": "ee8518dd",
   "metadata": {},
   "outputs": [],
   "source": [
    "predict_new_transaction(example_transaction)"
   ]
  }
 ],
 "metadata": {
  "jupytext": {
   "cell_metadata_filter": "-all",
   "main_language": "python",
   "notebook_metadata_filter": "-all"
  }
 },
 "nbformat": 4,
 "nbformat_minor": 5
}
