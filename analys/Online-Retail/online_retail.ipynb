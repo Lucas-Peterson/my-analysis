{
 "cells": [
  {
   "cell_type": "code",
   "execution_count": null,
   "id": "b3ded60d",
   "metadata": {},
   "outputs": [],
   "source": [
    "import pandas as pd\n",
    "import kagglehub\n",
    "from sklearn.preprocessing import StandardScaler\n",
    "from sklearn.cluster import KMeans, AgglomerativeClustering\n",
    "import matplotlib.pyplot as plt\n",
    "import seaborn as sns\n",
    "import scipy.cluster.hierarchy as sch"
   ]
  },
  {
   "cell_type": "code",
   "execution_count": null,
   "id": "9c21c198",
   "metadata": {},
   "outputs": [],
   "source": [
    "# Download dataset using KaggleHub API\n",
    "print(\"Downloading dataset from KaggleHub...\")\n",
    "path = kagglehub.dataset_download(\"hellbuoy/online-retail-customer-clustering\")\n",
    "dataset_path = f\"{path}/OnlineRetail.csv\"\n",
    "print(f\"Path to dataset: {dataset_path}\")"
   ]
  },
  {
   "cell_type": "code",
   "execution_count": null,
   "id": "ccd9e52b",
   "metadata": {},
   "outputs": [],
   "source": [
    "# Read the data\n",
    "df = pd.read_csv(dataset_path, encoding='ISO-8859-1')"
   ]
  },
  {
   "cell_type": "code",
   "execution_count": null,
   "id": "2de6448c",
   "metadata": {},
   "outputs": [],
   "source": [
    "# Data preprocessing: remove rows with missing values and invalid entries\n",
    "df = df.dropna(subset=['CustomerID'])\n",
    "df = df[df['Quantity'] > 0]\n",
    "df = df[df['UnitPrice'] > 0]"
   ]
  },
  {
   "cell_type": "code",
   "execution_count": null,
   "id": "5ef33e64",
   "metadata": {},
   "outputs": [],
   "source": [
    "# Aggregate data at the customer level\n",
    "customer_df = df.groupby('CustomerID').agg({\n",
    "    'Quantity': 'sum',\n",
    "    'UnitPrice': 'mean',\n",
    "    'InvoiceNo': 'nunique',\n",
    "    'StockCode': 'nunique'\n",
    "}).reset_index()"
   ]
  },
  {
   "cell_type": "code",
   "execution_count": null,
   "id": "cbed27d2",
   "metadata": {},
   "outputs": [],
   "source": [
    "# Scale the data\n",
    "scaler = StandardScaler()\n",
    "scaled_data = scaler.fit_transform(customer_df.drop(columns=['CustomerID']))"
   ]
  },
  {
   "cell_type": "code",
   "execution_count": null,
   "id": "a219eb05",
   "metadata": {},
   "outputs": [],
   "source": [
    "# --------- K-Means Clustering ---------\n",
    "# Elbow method to determine optimal clusters\n",
    "sse = []\n",
    "k_values = list(range(1, 11))\n",
    "for k in k_values:\n",
    "    kmeans = KMeans(n_clusters=k, random_state=42)\n",
    "    kmeans.fit(scaled_data)\n",
    "    sse.append(kmeans.inertia_)"
   ]
  },
  {
   "cell_type": "code",
   "execution_count": null,
   "id": "f413af82",
   "metadata": {},
   "outputs": [],
   "source": [
    "plt.figure(figsize=(8, 5))\n",
    "plt.plot(k_values, sse, marker='o')\n",
    "plt.title('Elbow Method for K-Means')\n",
    "plt.xlabel('Number of clusters')\n",
    "plt.ylabel('SSE')\n",
    "plt.grid(True)\n",
    "plt.show()"
   ]
  },
  {
   "cell_type": "code",
   "execution_count": null,
   "id": "63db5378",
   "metadata": {},
   "outputs": [],
   "source": [
    "# Clustering with the optimal number of clusters (e.g., 4)\n",
    "optimal_k = 4\n",
    "kmeans = KMeans(n_clusters=optimal_k, random_state=42)\n",
    "customer_df['KMeans_Cluster'] = kmeans.fit_predict(scaled_data)"
   ]
  },
  {
   "cell_type": "code",
   "execution_count": null,
   "id": "fa9b929c",
   "metadata": {},
   "outputs": [],
   "source": [
    "plt.figure(figsize=(8, 6))\n",
    "sns.scatterplot(x='Quantity', y='UnitPrice', hue='KMeans_Cluster', data=customer_df, palette='viridis', s=100)\n",
    "plt.title('Customer Clustering (K-Means)')\n",
    "plt.xlabel('Total Purchases')\n",
    "plt.ylabel('Average Unit Price')\n",
    "plt.legend(title='Cluster')\n",
    "plt.grid(True)\n",
    "plt.show()"
   ]
  },
  {
   "cell_type": "code",
   "execution_count": null,
   "id": "8cbada8b",
   "metadata": {},
   "outputs": [],
   "source": [
    "# --------- Hierarchical Clustering ---------\n",
    "plt.figure(figsize=(10, 7))\n",
    "dendrogram = sch.dendrogram(sch.linkage(scaled_data, method='ward'))\n",
    "plt.title('Dendrogram')\n",
    "plt.xlabel('Customers')\n",
    "plt.ylabel('Euclidean Distance')\n",
    "plt.grid(True)\n",
    "plt.show()"
   ]
  },
  {
   "cell_type": "code",
   "execution_count": null,
   "id": "66f3c7be",
   "metadata": {},
   "outputs": [],
   "source": [
    "hierarchical = AgglomerativeClustering(n_clusters=4, metric='euclidean', linkage='ward')\n",
    "customer_df['Hierarchical_Cluster'] = hierarchical.fit_predict(scaled_data)"
   ]
  },
  {
   "cell_type": "code",
   "execution_count": null,
   "id": "fe8cd88d",
   "metadata": {},
   "outputs": [],
   "source": [
    "plt.figure(figsize=(8, 6))\n",
    "sns.scatterplot(x='Quantity', y='UnitPrice', hue='Hierarchical_Cluster', data=customer_df, palette='viridis', s=100)\n",
    "plt.title('Customer Clustering (Hierarchical)')\n",
    "plt.xlabel('Total Purchases')\n",
    "plt.ylabel('Average Unit Price')\n",
    "plt.legend(title='Cluster')\n",
    "plt.grid(True)\n",
    "plt.show()"
   ]
  }
 ],
 "metadata": {
  "jupytext": {
   "cell_metadata_filter": "-all",
   "main_language": "python",
   "notebook_metadata_filter": "-all"
  }
 },
 "nbformat": 4,
 "nbformat_minor": 5
}
