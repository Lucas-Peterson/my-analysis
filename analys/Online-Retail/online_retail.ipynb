{
 "cells": [
  {
   "cell_type": "markdown",
   "metadata": {},
   "source": [
    "# Customer Clustering – Online Retail Dataset\n",
    "\n",
    "> **Purpose:** Segment customers based on purchasing behavior to inform marketing and retention strategies.\n",
    "\n",
    "📌 **Includes:**\n",
    "- Data preprocessing\n",
    "- K-Means clustering with Elbow method\n",
    "- Hierarchical clustering with dendrogram\n",
    "- Ready-to-use visuals (inserted below)\n",
    "\n",
    "**Dataset:** Kaggle – *Online Retail Customer Clustering* (hellbuoy/online-retail-customer-clustering)"
   ]
  },
  {
   "cell_type": "code",
   "execution_count": null,
   "metadata": {},
   "outputs": [],
   "source": [
    "# === Image URL parameters (pre-filled) ===\n",
    "IMAGE_COVER_URL = \"\"\n",
    "\n",
    "IMAGE_ELBOW_URL = \"https://raw.githubusercontent.com/Lucas-Peterson/my-analysis/main/analys/Online-Retail/Elbow_Method_for_K-Means.png\"\n",
    "IMAGE_CLUSTERS_URL = \"https://raw.githubusercontent.com/Lucas-Peterson/my-analysis/main/analys/Online-Retail/Customer_Clustering(K-Means).png\"\n",
    "\n",
    "IMAGE_EXTRA_1 = \"https://raw.githubusercontent.com/Lucas-Peterson/my-analysis/main/analys/Online-Retail/Customer_Clustering(Hierarchical).png\"\n",
    "IMAGE_EXTRA_2 = \"https://raw.githubusercontent.com/Lucas-Peterson/my-analysis/main/analys/Online-Retail/Dendogram.png\"\n",
    "\n",
    "print(\"Image URLs ready. Run 'Display images' below.\")"
   ]
  },
  {
   "cell_type": "code",
   "execution_count": null,
   "metadata": {},
   "outputs": [],
   "source": [
    "# === Display images ===\n",
    "from IPython.display import Image, display\n",
    "\n",
    "if IMAGE_COVER_URL:\n",
    "    display(Image(url=IMAGE_COVER_URL, embed=True))\n",
    "display(Image(url=IMAGE_ELBOW_URL, embed=True))\n",
    "display(Image(url=IMAGE_CLUSTERS_URL, embed=True))\n",
    "display(Image(url=IMAGE_EXTRA_1, embed=True))\n",
    "display(Image(url=IMAGE_EXTRA_2, embed=True))"
   ]
  },
  {
   "cell_type": "markdown",
   "metadata": {},
   "source": [
    "## Data & Preprocessing\n",
    "- Drop missing `CustomerID`\n",
    "- Keep only positive `Quantity` and `UnitPrice`\n",
    "- Aggregate at **customer level** (sum, mean, nunique)\n",
    "- Standard scaling before clustering"
   ]
  },
  {
   "cell_type": "code",
   "execution_count": null,
   "metadata": {},
   "outputs": [],
   "source": [
    "import pandas as pd\n",
    "import kagglehub\n",
    "from sklearn.preprocessing import StandardScaler\n",
    "from sklearn.cluster import KMeans, AgglomerativeClustering\n",
    "import matplotlib.pyplot as plt\n",
    "import seaborn as sns\n",
    "import scipy.cluster.hierarchy as sch"
   ]
  },
  {
   "cell_type": "code",
   "execution_count": null,
   "metadata": {},
   "outputs": [],
   "source": [
    "# Download dataset\n",
    "print(\"Downloading dataset from KaggleHub...\")\n",
    "path = kagglehub.dataset_download(\"hellbuoy/online-retail-customer-clustering\")\n",
    "dataset_path = f\"{path}/OnlineRetail.csv\"\n",
    "print(f\"Path to dataset: {dataset_path}\")"
   ]
  },
  {
   "cell_type": "code",
   "execution_count": null,
   "metadata": {},
   "outputs": [],
   "source": [
    "df = pd.read_csv(dataset_path, encoding='ISO-8859-1')\n",
    "df = df.dropna(subset=['CustomerID'])\n",
    "df = df[df['Quantity'] > 0]\n",
    "df = df[df['UnitPrice'] > 0]\n",
    "\n",
    "customer_df = df.groupby('CustomerID').agg({\n",
    "    'Quantity': 'sum',\n",
    "    'UnitPrice': 'mean',\n",
    "    'InvoiceNo': 'nunique',\n",
    "    'StockCode': 'nunique'\n",
    "}).reset_index()\n",
    "\n",
    "scaler = StandardScaler()\n",
    "scaled_data = scaler.fit_transform(customer_df.drop(columns=['CustomerID']))"
   ]
  },
  {
   "cell_type": "markdown",
   "metadata": {},
   "source": [
    "## K-Means Clustering\n",
    "- Elbow method to choose optimal **k**\n",
    "- Assign clusters and visualize"
   ]
  },
  {
   "cell_type": "code",
   "execution_count": null,
   "metadata": {},
   "outputs": [],
   "source": [
    "sse = []\n",
    "k_values = list(range(1, 11))\n",
    "for k in k_values:\n",
    "    kmeans = KMeans(n_clusters=k, random_state=42)\n",
    "    kmeans.fit(scaled_data)\n",
    "    sse.append(kmeans.inertia_)\n",
    "\n",
    "plt.figure(figsize=(8, 5))\n",
    "plt.plot(k_values, sse, marker='o')\n",
    "plt.title('Elbow Method for K-Means')\n",
    "plt.xlabel('Number of clusters')\n",
    "plt.ylabel('SSE')\n",
    "plt.grid(True)\n",
    "plt.show()"
   ]
  },
  {
   "cell_type": "code",
   "execution_count": null,
   "metadata": {},
   "outputs": [],
   "source": [
    "optimal_k = 4\n",
    "kmeans = KMeans(n_clusters=optimal_k, random_state=42)\n",
    "customer_df['KMeans_Cluster'] = kmeans.fit_predict(scaled_data)\n",
    "\n",
    "plt.figure(figsize=(8, 6))\n",
    "sns.scatterplot(x='Quantity', y='UnitPrice', hue='KMeans_Cluster', data=customer_df, s=80, palette='viridis')\n",
    "plt.title('Customer Clustering (K-Means)')\n",
    "plt.xlabel('Total Purchases')\n",
    "plt.ylabel('Average Unit Price')\n",
    "plt.legend(title='Cluster')\n",
    "plt.grid(True)\n",
    "plt.show()"
   ]
  },
  {
   "cell_type": "markdown",
   "metadata": {},
   "source": [
    "## Hierarchical Clustering\n",
    "- Ward linkage with Euclidean distance\n",
    "- Dendrogram + scatter plot"
   ]
  },
  {
   "cell_type": "code",
   "execution_count": null,
   "metadata": {},
   "outputs": [],
   "source": [
    "plt.figure(figsize=(10, 7))\n",
    "dendrogram = sch.dendrogram(sch.linkage(scaled_data, method='ward'))\n",
    "plt.title('Dendrogram')\n",
    "plt.xlabel('Customers')\n",
    "plt.ylabel('Euclidean Distance')\n",
    "plt.show()\n",
    "\n",
    "hierarchical = AgglomerativeClustering(n_clusters=4, metric='euclidean', linkage='ward')\n",
    "customer_df['Hierarchical_Cluster'] = hierarchical.fit_predict(scaled_data)\n",
    "\n",
    "plt.figure(figsize=(8, 6))\n",
    "sns.scatterplot(x='Quantity', y='UnitPrice', hue='Hierarchical_Cluster', data=customer_df, s=80, palette='viridis')\n",
    "plt.title('Customer Clustering (Hierarchical)')\n",
    "plt.xlabel('Total Purchases')\n",
    "plt.ylabel('Average Unit Price')\n",
    "plt.legend(title='Cluster')\n",
    "plt.grid(True)\n",
    "plt.show()"
   ]
  },
  {
   "cell_type": "markdown",
   "metadata": {},
   "source": [
    "## Next Steps\n",
    "- Add **RFM analysis**\n",
    "- Validate clusters with **customer lifetime value (CLV)**\n",
    "- Use PCA/UMAP for better visual separation\n",
    "- Build **personas** based on cluster summary"
   ]
  }
 ],
 "metadata": {
  "kernelspec": {
   "display_name": "Python 3",
   "language": "python",
   "name": "python3"
  },
  "language_info": {
   "name": "python",
   "version": ""
  }
 },
 "nbformat": 4,
 "nbformat_minor": 5
}
