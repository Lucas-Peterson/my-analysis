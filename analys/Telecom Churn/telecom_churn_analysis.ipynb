{
 "cells": [
  {
   "cell_type": "markdown",
   "id": "e3465225",
   "metadata": {},
   "source": [
    "# Telecom Customer Churn Analysis\n",
    "\n",
    "This project aims to analyze and predict customer churn for a telecommunications company using machine learning techniques. Churn refers to customers who leave the service. By identifying the key factors that lead to churn, the company can take proactive measures to retain valuable customers.\n",
    "\n",
    "## Objectives:\n",
    "- Understand the key factors contributing to churn\n",
    "- Preprocess and explore the dataset\n",
    "- Apply machine learning models to predict churn\n",
    "- Evaluate and compare model performance\n",
    "- Visualize insights from the data\n",
    "\n",
    "## Dataset:\n",
    "The dataset used is a mock telecom dataset named `Mock_Telecom_Churn_Data.csv`. It includes customer demographics, service plans, usage patterns, and churn status.\n",
    "\n",
    "## Machine Learning Models Used:\n",
    "- Logistic Regression\n",
    "- Random Forest Classifier\n",
    "- Gradient Boosting Classifier\n",
    "\n",
    "The dataset is imbalanced, so SMOTE (Synthetic Minority Over-sampling Technique) is used to balance the classes.\n",
    "\n",
    "Let's dive into the analysis.\n"
   ]
  },
  {
   "cell_type": "markdown",
   "metadata": {},
   "source": [
    "# Import Libraries"
   ]
  },
  {
   "cell_type": "code",
   "execution_count": null,
   "metadata": {},
   "outputs": [],
   "source": [
    "import pandas as pd\n",
    "import numpy as np\n",
    "import matplotlib.pyplot as plt\n",
    "import seaborn as sns\n",
    "from sklearn.model_selection import train_test_split, cross_val_score\n",
    "from sklearn.preprocessing import LabelEncoder\n",
    "from sklearn.ensemble import RandomForestClassifier, GradientBoostingClassifier\n",
    "from sklearn.linear_model import LogisticRegression\n",
    "from sklearn.metrics import classification_report, confusion_matrix, roc_auc_score\n",
    "from imblearn.over_sampling import SMOTE\n"
   ]
  },
  {
   "cell_type": "markdown",
   "metadata": {},
   "source": [
    "# Load and Preprocess Data"
   ]
  },
  {
   "cell_type": "code",
   "execution_count": null,
   "metadata": {},
   "outputs": [],
   "source": [
    "df = pd.read_csv(\"Mock_Telecom_Churn_Data.csv\")\n",
    "df['internet_service'].fillna('unknown', inplace=True)\n",
    "df['avg_monthly_charge'] = df['total_charges'] / df['tenure'].replace(0, np.nan)\n",
    "df['is_short_contract'] = df['contract_type'].apply(lambda x: 1 if x == 'month-to-month' else 0)\n",
    "df = pd.get_dummies(df, columns=['contract_type', 'internet_service'], drop_first=True)\n",
    "df['churn'] = df['churn'].map({'No': 0, 'Yes': 1})"
   ]
  },
  {
   "cell_type": "markdown",
   "metadata": {},
   "source": [
    "# Split Data and Apply SMOTE"
   ]
  },
  {
   "cell_type": "code",
   "execution_count": null,
   "metadata": {},
   "outputs": [],
   "source": [
    "X = df.drop(['customer_id', 'churn'], axis=1)\n",
    "y = df['churn']\n",
    "smote = SMOTE(random_state=42)\n",
    "X_resampled, y_resampled = smote.fit_resample(X, y)\n",
    "X_train, X_test, y_train, y_test = train_test_split(X_resampled, y_resampled, test_size=0.2, random_state=42)"
   ]
  },
  {
   "cell_type": "markdown",
   "metadata": {},
   "source": [
    "# Train Models and Evaluate"
   ]
  },
  {
   "cell_type": "code",
   "execution_count": null,
   "metadata": {},
   "outputs": [],
   "source": [
    "models = {\n",
    "    \"Random Forest\": RandomForestClassifier(n_estimators=100, random_state=42),\n",
    "    \"Logistic Regression\": LogisticRegression(max_iter=1000, solver='liblinear'),\n",
    "    \"Gradient Boosting\": GradientBoostingClassifier(n_estimators=100, random_state=42)\n",
    "}\n",
    "for name, model in models.items():\n",
    "    print(f\"\\n\\n===== {name} =====\")\n",
    "    model.fit(X_train, y_train)\n",
    "    y_pred = model.predict(X_test)\n",
    "    print(\"📊 Confusion Matrix:\")\n",
    "    print(confusion_matrix(y_test, y_pred))\n",
    "    print(\"\\n🧾 Classification Report:\")\n",
    "    print(classification_report(y_test, y_pred))\n",
    "    if hasattr(model, \"predict_proba\"):\n",
    "        roc_auc = roc_auc_score(y_test, model.predict_proba(X_test)[:, 1])\n",
    "        print(f\"🏁 ROC AUC Score: {roc_auc:.4f}\")\n",
    "    cv_scores = cross_val_score(model, X_resampled, y_resampled, cv=5, scoring='f1')\n",
    "    print(f\"🔁 Cross-validated F1 scores: {cv_scores}\")\n",
    "    print(f\"📈 Average F1 score: {cv_scores.mean():.4f}\")"
   ]
  },
  {
   "cell_type": "markdown",
   "metadata": {},
   "source": [
    "# Feature Importance (Random Forest)"
   ]
  },
  {
   "cell_type": "code",
   "execution_count": null,
   "metadata": {},
   "outputs": [],
   "source": [
    "rf_model = models[\"Random Forest\"]\n",
    "importances = rf_model.feature_importances_\n",
    "features = X.columns\n",
    "indices = np.argsort(importances)[::-1]\n",
    "plt.figure(figsize=(12, 6))\n",
    "sns.barplot(x=importances[indices], y=features[indices])\n",
    "plt.title('Feature Importances - Random Forest')\n",
    "plt.tight_layout()\n",
    "plt.show()"
   ]
  },
  {
   "cell_type": "markdown",
   "metadata": {},
   "source": [
    "## Predict Churn for a New Client"
   ]
  },
  {
   "cell_type": "code",
   "execution_count": null,
   "metadata": {},
   "outputs": [],
   "source": [
    "def preprocess_input(new_client: pd.DataFrame, reference_columns: list) -> pd.DataFrame:\n",
    "    new_client['internet_service'].fillna('unknown', inplace=True)\n",
    "    new_client['avg_monthly_charge'] = new_client['total_charges'] / new_client['tenure'].replace(0, np.nan)\n",
    "    new_client['is_short_contract'] = new_client['contract_type'].apply(lambda x: 1 if x == 'month-to-month' else 0)\n",
    "    new_client = pd.get_dummies(new_client, columns=['contract_type', 'internet_service'], drop_first=True)\n",
    "    for col in reference_columns:\n",
    "        if col not in new_client.columns:\n",
    "            new_client[col] = 0\n",
    "    return new_client[reference_columns]"
   ]
  },
  {
   "cell_type": "code",
   "execution_count": null,
   "metadata": {},
   "outputs": [],
   "source": [
    "def predict_churn_for_client(model, new_client_raw: pd.DataFrame, reference_columns: list):\n",
    "    new_client = preprocess_input(new_client_raw.copy(), reference_columns)\n",
    "    prob = model.predict_proba(new_client)[:, 1][0]\n",
    "    return f\"Customer Churn Probability: {prob:.2%}\""
   ]
  },
  {
   "cell_type": "code",
   "execution_count": null,
   "metadata": {},
   "outputs": [],
   "source": [
    "new_client = pd.DataFrame([{\n",
    "    'tenure': 5,\n",
    "    'total_charges': 250,\n",
    "    'contract_type': 'month-to-month',\n",
    "    'internet_service': 'fiber optic',\n",
    "}])\n",
    "reference_columns = list(X.columns)\n",
    "result = predict_churn_for_client(models[\"Gradient Boosting\"], new_client, reference_columns)\n",
    "print(result)"
   ]
  },
  {
   "cell_type": "markdown",
   "metadata": {},
   "source": [
    "##  Model Evaluation Results\n",
    "\n",
    "###  Random Forest\n",
    "- Accuracy: 93%\n",
    "-  ROC AUC Score: 0.9867\n",
    "-  Cross-validated F1 scores:\n",
    "  `[0.8877, 0.9581, 0.9418, 0.9367, 0.9657]`\n",
    "-  Average F1 score: **0.9380**\n",
    "\n",
    "###  Logistic Regression\n",
    "-  Accuracy: 89%\n",
    "-  ROC AUC Score: 0.9570\n",
    "-  Cross-validated F1 scores:\n",
    "  `[0.8293, 0.9271, 0.9207, 0.8995, 0.9275]`\n",
    "-  Average F1 score: **0.9008**\n",
    "\n",
    "###  Gradient Boosting\n",
    "-  Accuracy: 94%\n",
    "-  ROC AUC Score: 0.9812\n",
    "-  Cross-validated F1 scores:\n",
    "  `[0.8908, 0.9556, 0.9415, 0.9418, 0.9637]`\n",
    "-  Average F1 score: **0.9387**\n",
    "\n"
   ]
  }
 ],
 "metadata": {
  "kernelspec": {
   "display_name": "Python 3",
   "language": "python",
   "name": "python3"
  },
  "language_info": {
   "name": "python",
   "version": "3.8"
  }
 },
 "nbformat": 4,
 "nbformat_minor": 4
}
